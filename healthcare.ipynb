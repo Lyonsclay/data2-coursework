{
 "cells": [
  {
   "cell_type": "markdown",
   "id": "d4c10d1d-c328-4d2c-82c9-bb762845e8a4",
   "metadata": {
    "colab_type": "text",
    "collapsed": false,
    "id": "view-in-github"
   },
   "source": [
    "<a href=\"https://colab.research.google.com/github/Lyonsclay/data2-coursework/blob/main/healthcare.ipynb\" target=\"_parent\"><img src=\"https://colab.research.google.com/assets/colab-badge.svg\" alt=\"Open In Colab\"/></a>"
   ]
  },
  {
   "cell_type": "code",
   "execution_count": null,
   "id": "759ec0b3-6f4f-4fc6-9321-1facba276e83",
   "metadata": {
    "collapsed": false,
    "id": "c4Zfqtrf60Vu"
   },
   "outputs": [],
   "source": [
    "import pandas as pd\n",
    "import requests\n",
    "import json\n",
    "import urllib3\n",
    "from pandas import json_normalize\n"
   ]
  },
  {
   "cell_type": "markdown",
   "id": "62884380-875c-43ee-8eea-12b47b609b3d",
   "metadata": {
    "collapsed": false,
    "id": "CRCETJCnWJap"
   },
   "source": [
    "Link to the first set of data (this is a JSON file):  https://www.healthit.gov/data/open-api?source=Surescripts_County_04-2014.csv\n",
    "<br>\n",
    "Use pandas to read this into a dataframe.\n",
    "<br>\n",
    "Helpful link: https://pandas.pydata.org/docs/reference/api/pandas.read_json.html\n",
    " <br>\n",
    " <br>\n",
    " <br>\n",
    "Helpful links(for more complicated APIs):\n",
    "\n",
    "https://realpython.com/api-integration-in-python/\n",
    "<br>\n",
    "https://www.dataquest.io/blog/python-api-tutorial/\n",
    "<br>\n",
    "https://pandas.pydata.org/docs/reference/api/pandas.json_normalize.html"
   ]
  },
  {
   "cell_type": "code",
   "execution_count": null,
   "id": "0a0dab61-0c74-4246-8e14-c612df456022",
   "metadata": {
    "collapsed": false,
    "id": "9-BWfuaR6_qa"
   },
   "outputs": [],
   "source": [
    "# your code here"
   ]
  },
  {
   "cell_type": "markdown",
   "id": "9c7722fe-515b-4b53-98b0-9e9c4e1a73cf",
   "metadata": {
    "collapsed": false,
    "id": "qN5yGJJvbUKd"
   },
   "source": [
    "Now import the data from the following URL: https://raw.githubusercontent.com/dmorton714/data-2-demo/main/states.csv\n",
    "<br>\n",
    "kaggle link to the data: https://www.kaggle.com/datasets/hhs/health-insurance\n",
    "<br>\n",
    "Helpful links: \n",
    "<br>\n",
    "https://codeigo.com/python/read-a-csv-file-from-a-url\n",
    "<br>\n"
   ]
  },
  {
   "cell_type": "code",
   "execution_count": null,
   "id": "d52f0df7-e33c-4748-9a1b-49aaf4e1fe5e",
   "metadata": {
    "collapsed": false,
    "id": "p9cvH1r170ql"
   },
   "outputs": [],
   "source": [
    "# your code here"
   ]
  },
  {
   "cell_type": "markdown",
   "id": "9e375b4b-c835-4d8a-ad87-4b20c6f973f0",
   "metadata": {
    "collapsed": false,
    "id": "In2BLek4LmCA"
   },
   "source": [
    "Inspect the data in the dataframes\n",
    "\n",
    "1.   Verify rows of data in the dataframes. \n",
    "2.   List the columns. \n",
    "3.   Find the types in the dataframes.\n",
    "4.   Visualize the first 10 rows. \n",
    "5.   Find the data types. \n",
    "\n",
    "\n",
    "\n",
    "\n",
    "\n",
    "\n",
    "\n",
    "\n",
    "\n",
    "\n",
    "\n",
    "\n",
    "\n",
    "\n",
    "\n"
   ]
  },
  {
   "cell_type": "code",
   "execution_count": null,
   "id": "8c891a09-2723-4d63-a157-df9322741805",
   "metadata": {
    "collapsed": false,
    "id": "angK1CYNTybe"
   },
   "outputs": [],
   "source": [
    "# your code here"
   ]
  },
  {
   "cell_type": "markdown",
   "id": "48ffdd0e-9bb9-4028-ab76-314563e1fba0",
   "metadata": {
    "collapsed": false,
    "id": "PG_No2TbTzdU"
   },
   "source": [
    "Convert column types to meaningful types \n",
    "\n",
    "\n",
    "1.   Convert one column to string\n",
    "2.   Convert one column to float \n",
    "3.   Convert one column to bool \n",
    "4.   Convert one column to int\n",
    "5.   Convert one column to datetime\n",
    "\n",
    "\n"
   ]
  },
  {
   "cell_type": "code",
   "execution_count": null,
   "id": "d970f7f7-3bd2-419d-8cb1-2484e806cbcc",
   "metadata": {
    "collapsed": false,
    "id": "5v6KBKsYT4-8"
   },
   "outputs": [],
   "source": [
    "# your code here"
   ]
  },
  {
   "cell_type": "markdown",
   "id": "12cd461f-c2d6-4203-b2e0-ee0dd4d79d32",
   "metadata": {
    "collapsed": false,
    "id": "f4fH8C8DT5L_"
   },
   "source": [
    "Get some stats from the dataframe\n",
    "\n",
    "\n",
    "\n",
    "1.   Find the min, max, and mean for the columns you converted to float, int, and date time. \n",
    "2.   Find the distinct values for the sting column. \n",
    "3.   Find the true ratio in the bool column. "
   ]
  },
  {
   "cell_type": "code",
   "execution_count": 7,
   "id": "16c79a58-131b-4bf7-87a7-a7f7bdc2f223",
   "metadata": {
    "collapsed": false,
    "id": "WaZA_bWyT71A"
   },
   "outputs": [],
   "source": [
    "# your code here\n",
    "import pandas as pd\n",
    "\n",
    "df = pd.read_json(\"https://www.healthit.gov/data/open-api?source=Surescripts_County_04-2014.csv\")\n",
    "\n"
   ]
  },
  {
   "cell_type": "code",
   "execution_count": 16,
   "id": "36d130cb-dba4-41d2-97b0-88013f134fee",
   "metadata": {
    "collapsed": false
   },
   "outputs": [
    {
     "data": {
      "text/html": [
       "<div>\n",
       "<style scoped>\n",
       "    .dataframe tbody tr th:only-of-type {\n",
       "        vertical-align: middle;\n",
       "    }\n",
       "\n",
       "    .dataframe tbody tr th {\n",
       "        vertical-align: top;\n",
       "    }\n",
       "\n",
       "    .dataframe thead th {\n",
       "        text-align: right;\n",
       "    }\n",
       "</style>\n",
       "<table border=\"1\" class=\"dataframe\">\n",
       "  <thead>\n",
       "    <tr style=\"text-align: right;\">\n",
       "      <th></th>\n",
       "      <th>Region</th>\n",
       "      <th>Region Code</th>\n",
       "      <th>County Name</th>\n",
       "      <th>State FIPS</th>\n",
       "      <th>County FIPS</th>\n",
       "      <th>FIPS</th>\n",
       "    </tr>\n",
       "  </thead>\n",
       "  <tbody>\n",
       "    <tr>\n",
       "      <th>0</th>\n",
       "      <td>Alabama</td>\n",
       "      <td>AL</td>\n",
       "      <td>Autauga</td>\n",
       "      <td>1.0</td>\n",
       "      <td>1.0</td>\n",
       "      <td>1001.0</td>\n",
       "    </tr>\n",
       "    <tr>\n",
       "      <th>1</th>\n",
       "      <td>Alabama</td>\n",
       "      <td>AL</td>\n",
       "      <td>Baldwin</td>\n",
       "      <td>1.0</td>\n",
       "      <td>3.0</td>\n",
       "      <td>1003.0</td>\n",
       "    </tr>\n",
       "    <tr>\n",
       "      <th>2</th>\n",
       "      <td>Alabama</td>\n",
       "      <td>AL</td>\n",
       "      <td>Barbour</td>\n",
       "      <td>1.0</td>\n",
       "      <td>5.0</td>\n",
       "      <td>1005.0</td>\n",
       "    </tr>\n",
       "    <tr>\n",
       "      <th>3</th>\n",
       "      <td>Alabama</td>\n",
       "      <td>AL</td>\n",
       "      <td>Bibb</td>\n",
       "      <td>1.0</td>\n",
       "      <td>7.0</td>\n",
       "      <td>1007.0</td>\n",
       "    </tr>\n",
       "    <tr>\n",
       "      <th>4</th>\n",
       "      <td>Alabama</td>\n",
       "      <td>AL</td>\n",
       "      <td>Blount</td>\n",
       "      <td>1.0</td>\n",
       "      <td>9.0</td>\n",
       "      <td>1009.0</td>\n",
       "    </tr>\n",
       "  </tbody>\n",
       "</table>\n",
       "</div>"
      ],
      "text/plain": [
       "    Region Region Code County Name  State FIPS  County FIPS    FIPS\n",
       "0  Alabama          AL     Autauga         1.0          1.0  1001.0\n",
       "1  Alabama          AL     Baldwin         1.0          3.0  1003.0\n",
       "2  Alabama          AL     Barbour         1.0          5.0  1005.0\n",
       "3  Alabama          AL        Bibb         1.0          7.0  1007.0\n",
       "4  Alabama          AL      Blount         1.0          9.0  1009.0"
      ]
     },
     "execution_count": 16,
     "metadata": {},
     "output_type": "execute_result"
    }
   ],
   "source": [
    "\n",
    "df.iloc[:,0:6].head()"
   ]
  }
 ],
 "metadata": {
  "colab": {
   "include_colab_link": true,
   "provenance": []
  },
  "kernelspec": {
   "argv": [
    "python",
    "-m",
    "ipykernel_launcher",
    "-f",
    "{connection_file}"
   ],
   "display_name": "Python 3 (ipykernel)",
   "env": null,
   "interrupt_mode": "signal",
   "language": "python",
   "metadata": {
    "debugger": true
   },
   "name": "python3"
  },
  "language_info": {
   "name": "python"
  },
  "name": "healthcare.ipynb"
 },
 "nbformat": 4,
 "nbformat_minor": 0
}
